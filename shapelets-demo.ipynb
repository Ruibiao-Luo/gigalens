{
 "cells": [
  {
   "cell_type": "code",
   "execution_count": null,
   "outputs": [],
   "source": [
    "!nvidia-smi"
   ],
   "metadata": {
    "collapsed": false,
    "pycharm": {
     "name": "#%%\n"
    }
   }
  },
  {
   "cell_type": "markdown",
   "source": [
    "This notebook make take quite a bit longer than the quickstart notebook. We set $n_{max}=8$ for the shapelets because this is the minimal number needed to capture the spiral arms features on the source galaxy, resulting in slower modeling. This is in part due to the higher memory pressure associated with a large number of shapelets components."
   ],
   "metadata": {
    "collapsed": false,
    "pycharm": {
     "name": "#%% md\n"
    }
   }
  },
  {
   "cell_type": "code",
   "execution_count": null,
   "outputs": [],
   "source": [
    "import matplotlib as mpl\n",
    "import numpy as np\n",
    "import seaborn as sns\n",
    "import tensorflow as tf\n",
    "import tensorflow_probability as tfp\n",
    "from matplotlib import pyplot as plt\n",
    "from corner import corner\n",
    "\n",
    "from gigalens.tf.inference import ModellingSequence\n",
    "from gigalens.tf.model import ForwardProbModel, BackwardProbModel\n",
    "from gigalens.model import PhysicalModel\n",
    "from gigalens.tf.simulator import LensSimulator\n",
    "from gigalens.simulator import SimulatorConfig\n",
    "from gigalens.tf.profiles.light import sersic, shapelets\n",
    "from gigalens.tf.profiles.mass import epl, shear, sis\n",
    "import gigalens\n",
    "sns.set_style(\"whitegrid\")\n",
    "tfd = tfp.distributions"
   ],
   "metadata": {
    "collapsed": false,
    "pycharm": {
     "name": "#%%\n"
    }
   }
  },
  {
   "cell_type": "code",
   "execution_count": null,
   "outputs": [],
   "source": [
    "import gigalens\n",
    "root = gigalens.__path__[0]\n",
    "img = plt.imread(f'{root}/assets/spiral.jpeg')\n",
    "img = img[:,131:-131]\n",
    "img = np.sqrt(img[...,1].astype(np.float32))\n",
    "img -= np.median(img[:20,:20])\n",
    "img *= 100\n",
    "from skimage.transform import downscale_local_mean\n",
    "img = downscale_local_mean(img, (5,5))\n",
    "img = np.pad(img, [(100, 100), (100, 100)], mode='constant')\n",
    "grid = np.linspace(-1,1,len(img)).astype(np.float32)\n",
    "xx,yy = np.meshgrid(grid,grid)\n",
    "xx, yy = xx[np.newaxis,...,np.newaxis], yy[np.newaxis,...,np.newaxis]\n",
    "n_max = 8\n",
    "shp = shapelets.Shapelets(n_max=n_max, interpolate=False, use_lstsq=True)\n",
    "components = np.squeeze(shp.light(xx, yy, beta=0.13, center_x=0, center_y=0))\n",
    "X = components.reshape((shp.depth, -1))\n",
    "Y = img.flatten()\n",
    "sol, resid, _, _ = np.linalg.lstsq(X.T, Y)\n",
    "plt.imshow((sol@X).reshape(img.shape))\n",
    "plt.colorbar()"
   ],
   "metadata": {
    "collapsed": false,
    "pycharm": {
     "name": "#%%\n"
    }
   }
  },
  {
   "cell_type": "code",
   "execution_count": null,
   "outputs": [],
   "source": [
    "lens_prior = tfd.JointDistributionSequential(\n",
    "    [\n",
    "        tfd.JointDistributionNamed(\n",
    "            dict(\n",
    "                theta_E=tfd.LogNormal(tf.math.log(1.0), 0.25),\n",
    "                gamma=tfd.TruncatedNormal(2, 0.25, 1, 3),\n",
    "                e1=tfd.Normal(0, 0.1),\n",
    "                e2=tfd.Normal(0, 0.1),\n",
    "                center_x=tfd.Normal(0, 0.025),\n",
    "                center_y=tfd.Normal(0, 0.025),\n",
    "            )\n",
    "        ),\n",
    "    ]\n",
    ")\n",
    "\n",
    "amp_prior = {key: tfd.Normal(0,500/float(np.sqrt(i+1))) for i, key in enumerate(shapelets.Shapelets(n_max)._amp_names)}\n",
    "source_light_params = dict(\n",
    "    beta=tfd.LogNormal(tf.math.log(0.1), 0.15),\n",
    "    center_x=tfd.Normal(0, 0.01),\n",
    "    center_y=tfd.Normal(0, 0.01)\n",
    ")\n",
    "\n",
    "source_light_prior = tfd.JointDistributionSequential([tfd.JointDistributionNamed(source_light_params)])\n",
    "\n",
    "prior = tfd.JointDistributionSequential(\n",
    "    [lens_prior, source_light_prior]\n",
    ")"
   ],
   "metadata": {
    "collapsed": false,
    "pycharm": {
     "name": "#%%\n"
    }
   }
  },
  {
   "cell_type": "markdown",
   "source": [
    "Load the data. The ground truth parameters are in `truth`. Various hyperparameters, including the noise scale and exposure time are fixed.\n",
    "\n",
    "The PSF is generated from `TinyTim` for HST F140W band, and has been supersampled to the pixel scale of 0.065."
   ],
   "metadata": {
    "collapsed": false,
    "pycharm": {
     "name": "#%% md\n"
    }
   }
  },
  {
   "cell_type": "code",
   "execution_count": null,
   "outputs": [],
   "source": [
    "tf.random.set_seed(121)\n",
    "truth = prior.sample(1)\n",
    "truth[1][0] = {**truth[1][0], \n",
    "               **{f'amp{str(i).zfill(3)}': tf.convert_to_tensor([sol[i]]) for i in range(shp.depth)}, \n",
    "               'beta': tf.convert_to_tensor([0.08], dtype=tf.float32),\n",
    "              }"
   ],
   "metadata": {
    "collapsed": false,
    "pycharm": {
     "name": "#%%\n"
    }
   }
  },
  {
   "cell_type": "code",
   "execution_count": null,
   "outputs": [],
   "source": [
    "import gigalens\n",
    "root = gigalens.__path__[0] + '/assets'\n",
    "sim_config = SimulatorConfig(delta_pix=0.065, num_pix=60, supersample=1)\n",
    "phys_model = PhysicalModel([epl.EPL(), shear.Shear()], [], [shapelets.Shapelets(n_max=n_max, use_lstsq=False, interpolate=False)])\n",
    "lens_sim = LensSimulator(phys_model, sim_config, bs=1)\n",
    "observed_img = lens_sim.simulate(truth)\n",
    "err_map = np.sqrt(0.1**2 + np.clip(observed_img, 0, np.inf)/200)\n",
    "np.random.seed(1)\n",
    "observed_img += np.random.normal(scale=err_map)\n",
    "\n",
    "phys_model = PhysicalModel([epl.EPL(), shear.Shear()], [], [shapelets.Shapelets(n_max=n_max, use_lstsq=True, interpolate=False)])\n",
    "lens_sim = LensSimulator(phys_model, sim_config, bs=1)\n",
    "prob_model = BackwardProbModel(prior, observed_img, background_rms=0.1, exp_time=200)\n",
    "model_seq = ModellingSequence(phys_model, prob_model, sim_config)"
   ],
   "metadata": {
    "collapsed": false,
    "pycharm": {
     "name": "#%%\n"
    }
   }
  },
  {
   "cell_type": "code",
   "execution_count": null,
   "outputs": [],
   "source": [
    "plt.figure(figsize=(8,3))\n",
    "plt.subplot(121)\n",
    "plt.imshow(observed_img)\n",
    "plt.title('Observed image')\n",
    "plt.colorbar() \n",
    "plt.xticks([])\n",
    "plt.yticks([])\n",
    "plt.subplot(122)\n",
    "shp = shapelets.Shapelets(n_max=n_max, interpolate=False, use_lstsq=False)\n",
    "grid = np.linspace(-1,1,1000).astype(np.float32)\n",
    "a, b = np.meshgrid(grid,grid)\n",
    "ret = shp.light(a[np.newaxis,...,np.newaxis], b[np.newaxis,...,np.newaxis], **truth[1][0])\n",
    "plt.imshow(np.squeeze(ret))\n",
    "plt.title('Source plane')\n",
    "plt.grid(False)\n",
    "plt.colorbar()"
   ],
   "metadata": {
    "collapsed": false,
    "pycharm": {
     "name": "#%%\n"
    }
   }
  },
  {
   "cell_type": "markdown",
   "source": [
    "Begin fitting."
   ],
   "metadata": {
    "collapsed": false,
    "pycharm": {
     "name": "#%% md\n"
    }
   }
  },
  {
   "cell_type": "code",
   "execution_count": null,
   "outputs": [],
   "source": [
    "fitter = ModellingSequence(phys_model, prob_model, sim_config)"
   ],
   "metadata": {
    "collapsed": false,
    "pycharm": {
     "name": "#%%\n"
    }
   }
  },
  {
   "cell_type": "markdown",
   "source": [
    "See $\\S2.3$: Maximum a Posteriori Estimate"
   ],
   "metadata": {
    "collapsed": false,
    "pycharm": {
     "name": "#%% md\n"
    }
   }
  },
  {
   "cell_type": "code",
   "execution_count": null,
   "outputs": [],
   "source": [
    "n_map = 100\n",
    "schedule_fn = tf.keras.optimizers.schedules.PolynomialDecay(1e-2, n_map, 1e-2/10)\n",
    "optimizer = tf.keras.optimizers.Adam(schedule_fn)\n",
    "MAP = fitter.MAP(optimizer=optimizer, n_samples=n_map, num_steps=150, seed=0)"
   ],
   "metadata": {
    "collapsed": false,
    "pycharm": {
     "name": "#%%\n"
    }
   }
  },
  {
   "cell_type": "code",
   "execution_count": null,
   "outputs": [],
   "source": [
    "# Simulator to evaluate the log likelihood of 100 candidate solutions\n",
    "lens_sim_100 = LensSimulator(phys_model, sim_config, bs=n_map)\n",
    "lps = prob_model.log_prob(lens_sim_100, MAP)[0]\n",
    "best = MAP[tf.argmax(lps).numpy()]"
   ],
   "metadata": {
    "collapsed": false,
    "pycharm": {
     "name": "#%%\n"
    }
   }
  },
  {
   "cell_type": "markdown",
   "source": [
    "See $\\S2.4$: Variational Inference"
   ],
   "metadata": {
    "collapsed": false,
    "pycharm": {
     "name": "#%% md\n"
    }
   }
  },
  {
   "cell_type": "code",
   "execution_count": null,
   "outputs": [],
   "source": [
    "schedule_fn = tf.keras.optimizers.schedules.PolynomialDecay(0.0, 100, 4e-3, 2)\n",
    "optimizer = tf.keras.optimizers.Adam(schedule_fn)\n",
    "q_z, losses = fitter.SVI(optimizer=optimizer, start=best, n_vi=500, num_steps=350)"
   ],
   "metadata": {
    "collapsed": false,
    "pycharm": {
     "name": "#%%\n"
    }
   }
  },
  {
   "cell_type": "code",
   "execution_count": null,
   "outputs": [],
   "source": [
    "plt.plot(losses)"
   ],
   "metadata": {
    "collapsed": false,
    "pycharm": {
     "name": "#%%\n"
    }
   }
  },
  {
   "cell_type": "markdown",
   "source": [
    "See $\\S2.5$: Hamiltonian Monte Carlo"
   ],
   "metadata": {
    "collapsed": false,
    "pycharm": {
     "name": "#%% md\n"
    }
   }
  },
  {
   "cell_type": "code",
   "execution_count": null,
   "outputs": [],
   "source": [
    "samples, sample_stats = fitter.HMC(q_z, n_hmc=50, init_eps=0.3, init_l=3, max_leapfrog_steps=300,\n",
    "                                   num_burnin_steps=250, num_results=750)"
   ],
   "metadata": {
    "collapsed": false,
    "pycharm": {
     "name": "#%%\n"
    }
   }
  },
  {
   "cell_type": "code",
   "execution_count": null,
   "outputs": [],
   "source": [
    "Rhat = tf.nest.map_structure(tfp.mcmc.potential_scale_reduction, prob_model.bij.forward(samples))\n",
    "ESS = tf.nest.map_structure(lambda x: tfp.mcmc.effective_sample_size(x,cross_chain_dims=1), prob_model.bij.forward(samples))\n",
    "print('Rhat', Rhat)\n",
    "print('ESS', ESS)"
   ],
   "metadata": {
    "collapsed": false,
    "pycharm": {
     "name": "#%%\n"
    }
   }
  },
  {
   "cell_type": "code",
   "execution_count": null,
   "outputs": [],
   "source": [
    "get_samples = lambda x: tf.convert_to_tensor([\n",
    "    x[0][0]['theta_E'],\n",
    "    x[0][0]['gamma'],\n",
    "    x[0][0]['e1'],\n",
    "    x[0][0]['e2'],\n",
    "    x[0][0]['center_x'],\n",
    "    x[0][0]['center_y'],\n",
    "    x[1][0]['beta'],\n",
    "    x[1][0]['center_x'],\n",
    "    x[1][0]['center_y'],\n",
    "])\n",
    "physical_samples = get_samples(prob_model.bij.forward(samples)).numpy()\n",
    "markers = get_samples(truth).numpy().flatten()\n",
    "labels=[r'$\\theta_E$', r'$\\gamma$', r'$\\epsilon_1$', r'$\\epsilon_2$', r'$x_{epl}$', r'$y_{epl}$', r'$\\beta$', r'$x_s$', r'$y_s$']\n",
    "corner(physical_samples.reshape((len(labels),-1)).T, truths=markers, \n",
    "       show_titles=True, title_fmt='.4f',\n",
    "       labels=labels);"
   ],
   "metadata": {
    "collapsed": false,
    "pycharm": {
     "name": "#%%\n"
    }
   }
  },
  {
   "cell_type": "code",
   "execution_count": null,
   "outputs": [],
   "source": [
    "mean_estimate = tf.nest.map_structure(lambda x: tf.reduce_mean(x, axis=(0,1),keepdims=True)[0], prob_model.bij.forward(samples))\n",
    "plt.figure(figsize=(13,3))\n",
    "plt.subplot(141)\n",
    "plt.title('Recovered')\n",
    "plt.imshow(lens_sim.lstsq_simulate(mean_estimate, observed_img, err_map))\n",
    "plt.xticks([])\n",
    "plt.yticks([])\n",
    "plt.subplot(142)\n",
    "plt.title('Residual')\n",
    "residual = (observed_img-lens_sim.lstsq_simulate(mean_estimate, observed_img, err_map))/err_map\n",
    "plt.imshow(residual, cmap='bwr', interpolation='none')\n",
    "plt.colorbar()\n",
    "plt.xticks([])\n",
    "plt.yticks([])\n",
    "\n",
    "plt.subplot(143)\n",
    "plt.title('Residual histogram')\n",
    "plt.hist(residual.numpy().flatten(), range=(-4,4), density=True, bins=30)\n",
    "plt.xlabel('Normalized Residual')\n",
    "\n",
    "coeffs = np.squeeze(lens_sim.lstsq_simulate(mean_estimate, observed_img, err_map, return_coeffs=True))\n",
    "shp = shapelets.Shapelets(n_max=n_max, interpolate=False, use_lstsq=False)\n",
    "grid = np.linspace(-1,1,1000).astype(np.float32)\n",
    "a, b = np.meshgrid(grid,grid)\n",
    "ret = shp.light(a[np.newaxis,...,np.newaxis], b[np.newaxis,...,np.newaxis], **mean_estimate[1][0], \n",
    "                **{shp._amp_names[i]: tf.convert_to_tensor([coeffs[i]]) for i in range(shp.depth)})\n",
    "plt.subplot(144)\n",
    "plt.title('Recovered source')\n",
    "plt.imshow(np.squeeze(ret))\n",
    "plt.xticks([])\n",
    "plt.yticks([])\n",
    "plt.tight_layout()"
   ],
   "metadata": {
    "collapsed": false,
    "pycharm": {
     "name": "#%%\n"
    }
   }
  },
  {
   "cell_type": "code",
   "execution_count": 29,
   "id": "1d63d7e3-8fb5-427a-a91a-4f15d13ff932",
   "metadata": {
    "pycharm": {
     "name": "#%%\n"
    }
   },
   "outputs": [
    {
     "data": {
      "image/png": "[encoded data removed]",
      "text/plain": [
       "<Figure size 936x216 with 5 Axes>"
      ]
     },
     "metadata": {},
     "output_type": "display_data"
    }
   ],
   "source": [
    "mean_estimate = tf.nest.map_structure(lambda x: tf.reduce_mean(x, axis=(0,1),keepdims=True)[0], prob_model.bij.forward(samples))\n",
    "plt.figure(figsize=(13,3))\n",
    "plt.subplot(141)\n",
    "plt.title('Recovered')\n",
    "plt.imshow(lens_sim.lstsq_simulate(mean_estimate, observed_img, err_map))\n",
    "plt.xticks([])\n",
    "plt.yticks([])\n",
    "plt.subplot(142)\n",
    "plt.title('Residual')\n",
    "residual = (observed_img-lens_sim.lstsq_simulate(mean_estimate, observed_img, err_map))/err_map\n",
    "plt.imshow(residual, cmap='bwr', interpolation='none')\n",
    "plt.colorbar()\n",
    "plt.xticks([])\n",
    "plt.yticks([])\n",
    "\n",
    "plt.subplot(143)\n",
    "plt.title('Residual histogram')\n",
    "plt.hist(residual.numpy().flatten(), range=(-4,4), density=True, bins=30)\n",
    "plt.xlabel('Normalized Residual')\n",
    "\n",
    "coeffs = np.squeeze(lens_sim.lstsq_simulate(mean_estimate, observed_img, err_map, return_coeffs=True))\n",
    "shp = shapelets.Shapelets(n_max=n_max, interpolate=False, use_lstsq=False)\n",
    "grid = np.linspace(-1,1,1000).astype(np.float32)\n",
    "a, b = np.meshgrid(grid,grid)\n",
    "ret = shp.light(a[np.newaxis,...,np.newaxis], b[np.newaxis,...,np.newaxis], **mean_estimate[1][0], \n",
    "                **{shp._amp_names[i]: tf.convert_to_tensor([coeffs[i]]) for i in range(shp.depth)})\n",
    "plt.subplot(144)\n",
    "plt.title('Recovered source')\n",
    "plt.imshow(np.squeeze(ret))\n",
    "plt.xticks([])\n",
    "plt.yticks([])\n",
    "plt.tight_layout()"
   ]
  },
  {
   "cell_type": "code",
   "execution_count": null,
   "id": "292c67be-3cfe-492e-8379-93c5c9e66b66",
   "metadata": {
    "pycharm": {
     "name": "#%%\n"
    }
   },
   "outputs": [],
   "source": []
  }
 ],
 "metadata": {
  "accelerator": "GPU",
  "colab": {
   "collapsed_sections": [],
   "name": "shapelets-demo.ipynb",
   "provenance": []
  },
  "kernelspec": {
   "display_name": "tensorflow-2.6.0",
   "language": "python",
   "name": "tensorflow-2.6.0"
  },
  "language_info": {
   "codemirror_mode": {
    "name": "ipython",
    "version": 3
   },
   "file_extension": ".py",
   "mimetype": "text/x-python",
   "name": "python",
   "nbconvert_exporter": "python",
   "pygments_lexer": "ipython3",
   "version": "3.8.12"
  },
  "widgets": {
   "application/vnd.jupyter.widget-state+json": {
    "031ab0bb394d438c812849574592a91d": {
     "model_module": "@jupyter-widgets/controls",
     "model_module_version": "1.5.0",
     "model_name": "DescriptionStyleModel",
     "state": {
      "_model_module": "@jupyter-widgets/controls",
      "_model_module_version": "1.5.0",
      "_model_name": "DescriptionStyleModel",
      "_view_count": null,
      "_view_module": "@jupyter-widgets/base",
      "_view_module_version": "1.2.0",
      "_view_name": "StyleView",
      "description_width": ""
     }
    },
    "128ac22b374e4881a75fd1860f9605ad": {
     "model_module": "@jupyter-widgets/controls",
     "model_module_version": "1.5.0",
     "model_name": "ProgressStyleModel",
     "state": {
      "_model_module": "@jupyter-widgets/controls",
      "_model_module_version": "1.5.0",
      "_model_name": "ProgressStyleModel",
      "_view_count": null,
      "_view_module": "@jupyter-widgets/base",
      "_view_module_version": "1.2.0",
      "_view_name": "StyleView",
      "bar_color": null,
      "description_width": ""
     }
    },
    "2fe51454945241f78e0b40695066a058": {
     "model_module": "@jupyter-widgets/controls",
     "model_module_version": "1.5.0",
     "model_name": "DescriptionStyleModel",
     "state": {
      "_model_module": "@jupyter-widgets/controls",
      "_model_module_version": "1.5.0",
      "_model_name": "DescriptionStyleModel",
      "_view_count": null,
      "_view_module": "@jupyter-widgets/base",
      "_view_module_version": "1.2.0",
      "_view_name": "StyleView",
      "description_width": ""
     }
    },
    "2fe5fe9e46cf431c95a38fce1e491912": {
     "model_module": "@jupyter-widgets/controls",
     "model_module_version": "1.5.0",
     "model_name": "HTMLModel",
     "state": {
      "_dom_classes": [],
      "_model_module": "@jupyter-widgets/controls",
      "_model_module_version": "1.5.0",
      "_model_name": "HTMLModel",
      "_view_count": null,
      "_view_module": "@jupyter-widgets/controls",
      "_view_module_version": "1.5.0",
      "_view_name": "HTMLView",
      "description": "",
      "description_tooltip": null,
      "layout": "IPY_MODEL_d0ef6f8b10954abfa76ef64c49e3bf45",
      "placeholder": "​",
      "style": "IPY_MODEL_031ab0bb394d438c812849574592a91d",
      "value": " 93/300 [02:43&lt;05:20,  1.55s/it]"
     }
    },
    "337bee9fdcc740d0a1e2cef6f9112b82": {
     "model_module": "@jupyter-widgets/base",
     "model_module_version": "1.2.0",
     "model_name": "LayoutModel",
     "state": {
      "_model_module": "@jupyter-widgets/base",
      "_model_module_version": "1.2.0",
      "_model_name": "LayoutModel",
      "_view_count": null,
      "_view_module": "@jupyter-widgets/base",
      "_view_module_version": "1.2.0",
      "_view_name": "LayoutView",
      "align_content": null,
      "align_items": null,
      "align_self": null,
      "border": null,
      "bottom": null,
      "display": null,
      "flex": null,
      "flex_flow": null,
      "grid_area": null,
      "grid_auto_columns": null,
      "grid_auto_flow": null,
      "grid_auto_rows": null,
      "grid_column": null,
      "grid_gap": null,
      "grid_row": null,
      "grid_template_areas": null,
      "grid_template_columns": null,
      "grid_template_rows": null,
      "height": null,
      "justify_content": null,
      "justify_items": null,
      "left": null,
      "margin": null,
      "max_height": null,
      "max_width": null,
      "min_height": null,
      "min_width": null,
      "object_fit": null,
      "object_position": null,
      "order": null,
      "overflow": null,
      "overflow_x": null,
      "overflow_y": null,
      "padding": null,
      "right": null,
      "top": null,
      "visibility": null,
      "width": null
     }
    },
    "3a7b02daf57145dd9685ea6b1de17d8f": {
     "model_module": "@jupyter-widgets/controls",
     "model_module_version": "1.5.0",
     "model_name": "FloatProgressModel",
     "state": {
      "_dom_classes": [],
      "_model_module": "@jupyter-widgets/controls",
      "_model_module_version": "1.5.0",
      "_model_name": "FloatProgressModel",
      "_view_count": null,
      "_view_module": "@jupyter-widgets/controls",
      "_view_module_version": "1.5.0",
      "_view_name": "ProgressView",
      "bar_style": "success",
      "description": "",
      "description_tooltip": null,
      "layout": "IPY_MODEL_e6ab8584748645e1a893d801181a4d29",
      "max": 999,
      "min": 0,
      "orientation": "horizontal",
      "style": "IPY_MODEL_b166423f225f4530b1a4e3dbacf07590",
      "value": 999
     }
    },
    "3aab734f79194a0896baef8c44818d29": {
     "model_module": "@jupyter-widgets/controls",
     "model_module_version": "1.5.0",
     "model_name": "FloatProgressModel",
     "state": {
      "_dom_classes": [],
      "_model_module": "@jupyter-widgets/controls",
      "_model_module_version": "1.5.0",
      "_model_name": "FloatProgressModel",
      "_view_count": null,
      "_view_module": "@jupyter-widgets/controls",
      "_view_module_version": "1.5.0",
      "_view_name": "ProgressView",
      "bar_style": "danger",
      "description": "",
      "description_tooltip": null,
      "layout": "IPY_MODEL_337bee9fdcc740d0a1e2cef6f9112b82",
      "max": 300,
      "min": 0,
      "orientation": "horizontal",
      "style": "IPY_MODEL_128ac22b374e4881a75fd1860f9605ad",
      "value": 93
     }
    },
    "4c5808db8fac4046bac7e96c4f55da65": {
     "model_module": "@jupyter-widgets/controls",
     "model_module_version": "1.5.0",
     "model_name": "HTMLModel",
     "state": {
      "_dom_classes": [],
      "_model_module": "@jupyter-widgets/controls",
      "_model_module_version": "1.5.0",
      "_model_name": "HTMLModel",
      "_view_count": null,
      "_view_module": "@jupyter-widgets/controls",
      "_view_module_version": "1.5.0",
      "_view_name": "HTMLView",
      "description": "",
      "description_tooltip": null,
      "layout": "IPY_MODEL_cb96bf1270d9458c8ca3b35d5da73a7a",
      "placeholder": "​",
      "style": "IPY_MODEL_2fe51454945241f78e0b40695066a058",
      "value": " 999/999 [11:25&lt;00:00,  1.18it/s]"
     }
    },
    "5fd592e689a24236a90fa67e68dd6c1d": {
     "model_module": "@jupyter-widgets/base",
     "model_module_version": "1.2.0",
     "model_name": "LayoutModel",
     "state": {
      "_model_module": "@jupyter-widgets/base",
      "_model_module_version": "1.2.0",
      "_model_name": "LayoutModel",
      "_view_count": null,
      "_view_module": "@jupyter-widgets/base",
      "_view_module_version": "1.2.0",
      "_view_name": "LayoutView",
      "align_content": null,
      "align_items": null,
      "align_self": null,
      "border": null,
      "bottom": null,
      "display": null,
      "flex": null,
      "flex_flow": null,
      "grid_area": null,
      "grid_auto_columns": null,
      "grid_auto_flow": null,
      "grid_auto_rows": null,
      "grid_column": null,
      "grid_gap": null,
      "grid_row": null,
      "grid_template_areas": null,
      "grid_template_columns": null,
      "grid_template_rows": null,
      "height": null,
      "justify_content": null,
      "justify_items": null,
      "left": null,
      "margin": null,
      "max_height": null,
      "max_width": null,
      "min_height": null,
      "min_width": null,
      "object_fit": null,
      "object_position": null,
      "order": null,
      "overflow": null,
      "overflow_x": null,
      "overflow_y": null,
      "padding": null,
      "right": null,
      "top": null,
      "visibility": null,
      "width": null
     }
    },
    "6f6c3f7df675468ea59d58cb54218fc7": {
     "model_module": "@jupyter-widgets/controls",
     "model_module_version": "1.5.0",
     "model_name": "DescriptionStyleModel",
     "state": {
      "_model_module": "@jupyter-widgets/controls",
      "_model_module_version": "1.5.0",
      "_model_name": "DescriptionStyleModel",
      "_view_count": null,
      "_view_module": "@jupyter-widgets/base",
      "_view_module_version": "1.2.0",
      "_view_name": "StyleView",
      "description_width": ""
     }
    },
    "71dbdde305b84428b5ded806cdd912ab": {
     "model_module": "@jupyter-widgets/controls",
     "model_module_version": "1.5.0",
     "model_name": "HBoxModel",
     "state": {
      "_dom_classes": [],
      "_model_module": "@jupyter-widgets/controls",
      "_model_module_version": "1.5.0",
      "_model_name": "HBoxModel",
      "_view_count": null,
      "_view_module": "@jupyter-widgets/controls",
      "_view_module_version": "1.5.0",
      "_view_name": "HBoxView",
      "box_style": "",
      "children": [
       "IPY_MODEL_b888d9f8003d4bd4aa52215ef9c28e01",
       "IPY_MODEL_3aab734f79194a0896baef8c44818d29",
       "IPY_MODEL_2fe5fe9e46cf431c95a38fce1e491912"
      ],
      "layout": "IPY_MODEL_7209ea3cbe0f456d8d2b937d5ef4aa17"
     }
    },
    "7209ea3cbe0f456d8d2b937d5ef4aa17": {
     "model_module": "@jupyter-widgets/base",
     "model_module_version": "1.2.0",
     "model_name": "LayoutModel",
     "state": {
      "_model_module": "@jupyter-widgets/base",
      "_model_module_version": "1.2.0",
      "_model_name": "LayoutModel",
      "_view_count": null,
      "_view_module": "@jupyter-widgets/base",
      "_view_module_version": "1.2.0",
      "_view_name": "LayoutView",
      "align_content": null,
      "align_items": null,
      "align_self": null,
      "border": null,
      "bottom": null,
      "display": null,
      "flex": null,
      "flex_flow": null,
      "grid_area": null,
      "grid_auto_columns": null,
      "grid_auto_flow": null,
      "grid_auto_rows": null,
      "grid_column": null,
      "grid_gap": null,
      "grid_row": null,
      "grid_template_areas": null,
      "grid_template_columns": null,
      "grid_template_rows": null,
      "height": null,
      "justify_content": null,
      "justify_items": null,
      "left": null,
      "margin": null,
      "max_height": null,
      "max_width": null,
      "min_height": null,
      "min_width": null,
      "object_fit": null,
      "object_position": null,
      "order": null,
      "overflow": null,
      "overflow_x": null,
      "overflow_y": null,
      "padding": null,
      "right": null,
      "top": null,
      "visibility": null,
      "width": null
     }
    },
    "8defbf771dc649ad8d4b6ed568a6695f": {
     "model_module": "@jupyter-widgets/base",
     "model_module_version": "1.2.0",
     "model_name": "LayoutModel",
     "state": {
      "_model_module": "@jupyter-widgets/base",
      "_model_module_version": "1.2.0",
      "_model_name": "LayoutModel",
      "_view_count": null,
      "_view_module": "@jupyter-widgets/base",
      "_view_module_version": "1.2.0",
      "_view_name": "LayoutView",
      "align_content": null,
      "align_items": null,
      "align_self": null,
      "border": null,
      "bottom": null,
      "display": null,
      "flex": null,
      "flex_flow": null,
      "grid_area": null,
      "grid_auto_columns": null,
      "grid_auto_flow": null,
      "grid_auto_rows": null,
      "grid_column": null,
      "grid_gap": null,
      "grid_row": null,
      "grid_template_areas": null,
      "grid_template_columns": null,
      "grid_template_rows": null,
      "height": null,
      "justify_content": null,
      "justify_items": null,
      "left": null,
      "margin": null,
      "max_height": null,
      "max_width": null,
      "min_height": null,
      "min_width": null,
      "object_fit": null,
      "object_position": null,
      "order": null,
      "overflow": null,
      "overflow_x": null,
      "overflow_y": null,
      "padding": null,
      "right": null,
      "top": null,
      "visibility": null,
      "width": null
     }
    },
    "aa8503d02da941feb19d170bd01f5274": {
     "model_module": "@jupyter-widgets/controls",
     "model_module_version": "1.5.0",
     "model_name": "HBoxModel",
     "state": {
      "_dom_classes": [],
      "_model_module": "@jupyter-widgets/controls",
      "_model_module_version": "1.5.0",
      "_model_name": "HBoxModel",
      "_view_count": null,
      "_view_module": "@jupyter-widgets/controls",
      "_view_module_version": "1.5.0",
      "_view_name": "HBoxView",
      "box_style": "",
      "children": [
       "IPY_MODEL_faa4cdb0aeab44958fc00b37907d0418",
       "IPY_MODEL_3a7b02daf57145dd9685ea6b1de17d8f",
       "IPY_MODEL_4c5808db8fac4046bac7e96c4f55da65"
      ],
      "layout": "IPY_MODEL_8defbf771dc649ad8d4b6ed568a6695f"
     }
    },
    "b166423f225f4530b1a4e3dbacf07590": {
     "model_module": "@jupyter-widgets/controls",
     "model_module_version": "1.5.0",
     "model_name": "ProgressStyleModel",
     "state": {
      "_model_module": "@jupyter-widgets/controls",
      "_model_module_version": "1.5.0",
      "_model_name": "ProgressStyleModel",
      "_view_count": null,
      "_view_module": "@jupyter-widgets/base",
      "_view_module_version": "1.2.0",
      "_view_name": "StyleView",
      "bar_color": null,
      "description_width": ""
     }
    },
    "b888d9f8003d4bd4aa52215ef9c28e01": {
     "model_module": "@jupyter-widgets/controls",
     "model_module_version": "1.5.0",
     "model_name": "HTMLModel",
     "state": {
      "_dom_classes": [],
      "_model_module": "@jupyter-widgets/controls",
      "_model_module_version": "1.5.0",
      "_model_name": "HTMLModel",
      "_view_count": null,
      "_view_module": "@jupyter-widgets/controls",
      "_view_module_version": "1.5.0",
      "_view_name": "HTMLView",
      "description": "",
      "description_tooltip": null,
      "layout": "IPY_MODEL_d719300937f042728b29fa8be97700f2",
      "placeholder": "​",
      "style": "IPY_MODEL_be144b844f804a3c99a6b09ad50c517f",
      "value": "Chi Squared: 22.0803:  31%"
     }
    },
    "be144b844f804a3c99a6b09ad50c517f": {
     "model_module": "@jupyter-widgets/controls",
     "model_module_version": "1.5.0",
     "model_name": "DescriptionStyleModel",
     "state": {
      "_model_module": "@jupyter-widgets/controls",
      "_model_module_version": "1.5.0",
      "_model_name": "DescriptionStyleModel",
      "_view_count": null,
      "_view_module": "@jupyter-widgets/base",
      "_view_module_version": "1.2.0",
      "_view_name": "StyleView",
      "description_width": ""
     }
    },
    "cb96bf1270d9458c8ca3b35d5da73a7a": {
     "model_module": "@jupyter-widgets/base",
     "model_module_version": "1.2.0",
     "model_name": "LayoutModel",
     "state": {
      "_model_module": "@jupyter-widgets/base",
      "_model_module_version": "1.2.0",
      "_model_name": "LayoutModel",
      "_view_count": null,
      "_view_module": "@jupyter-widgets/base",
      "_view_module_version": "1.2.0",
      "_view_name": "LayoutView",
      "align_content": null,
      "align_items": null,
      "align_self": null,
      "border": null,
      "bottom": null,
      "display": null,
      "flex": null,
      "flex_flow": null,
      "grid_area": null,
      "grid_auto_columns": null,
      "grid_auto_flow": null,
      "grid_auto_rows": null,
      "grid_column": null,
      "grid_gap": null,
      "grid_row": null,
      "grid_template_areas": null,
      "grid_template_columns": null,
      "grid_template_rows": null,
      "height": null,
      "justify_content": null,
      "justify_items": null,
      "left": null,
      "margin": null,
      "max_height": null,
      "max_width": null,
      "min_height": null,
      "min_width": null,
      "object_fit": null,
      "object_position": null,
      "order": null,
      "overflow": null,
      "overflow_x": null,
      "overflow_y": null,
      "padding": null,
      "right": null,
      "top": null,
      "visibility": null,
      "width": null
     }
    },
    "d0ef6f8b10954abfa76ef64c49e3bf45": {
     "model_module": "@jupyter-widgets/base",
     "model_module_version": "1.2.0",
     "model_name": "LayoutModel",
     "state": {
      "_model_module": "@jupyter-widgets/base",
      "_model_module_version": "1.2.0",
      "_model_name": "LayoutModel",
      "_view_count": null,
      "_view_module": "@jupyter-widgets/base",
      "_view_module_version": "1.2.0",
      "_view_name": "LayoutView",
      "align_content": null,
      "align_items": null,
      "align_self": null,
      "border": null,
      "bottom": null,
      "display": null,
      "flex": null,
      "flex_flow": null,
      "grid_area": null,
      "grid_auto_columns": null,
      "grid_auto_flow": null,
      "grid_auto_rows": null,
      "grid_column": null,
      "grid_gap": null,
      "grid_row": null,
      "grid_template_areas": null,
      "grid_template_columns": null,
      "grid_template_rows": null,
      "height": null,
      "justify_content": null,
      "justify_items": null,
      "left": null,
      "margin": null,
      "max_height": null,
      "max_width": null,
      "min_height": null,
      "min_width": null,
      "object_fit": null,
      "object_position": null,
      "order": null,
      "overflow": null,
      "overflow_x": null,
      "overflow_y": null,
      "padding": null,
      "right": null,
      "top": null,
      "visibility": null,
      "width": null
     }
    },
    "d719300937f042728b29fa8be97700f2": {
     "model_module": "@jupyter-widgets/base",
     "model_module_version": "1.2.0",
     "model_name": "LayoutModel",
     "state": {
      "_model_module": "@jupyter-widgets/base",
      "_model_module_version": "1.2.0",
      "_model_name": "LayoutModel",
      "_view_count": null,
      "_view_module": "@jupyter-widgets/base",
      "_view_module_version": "1.2.0",
      "_view_name": "LayoutView",
      "align_content": null,
      "align_items": null,
      "align_self": null,
      "border": null,
      "bottom": null,
      "display": null,
      "flex": null,
      "flex_flow": null,
      "grid_area": null,
      "grid_auto_columns": null,
      "grid_auto_flow": null,
      "grid_auto_rows": null,
      "grid_column": null,
      "grid_gap": null,
      "grid_row": null,
      "grid_template_areas": null,
      "grid_template_columns": null,
      "grid_template_rows": null,
      "height": null,
      "justify_content": null,
      "justify_items": null,
      "left": null,
      "margin": null,
      "max_height": null,
      "max_width": null,
      "min_height": null,
      "min_width": null,
      "object_fit": null,
      "object_position": null,
      "order": null,
      "overflow": null,
      "overflow_x": null,
      "overflow_y": null,
      "padding": null,
      "right": null,
      "top": null,
      "visibility": null,
      "width": null
     }
    },
    "e6ab8584748645e1a893d801181a4d29": {
     "model_module": "@jupyter-widgets/base",
     "model_module_version": "1.2.0",
     "model_name": "LayoutModel",
     "state": {
      "_model_module": "@jupyter-widgets/base",
      "_model_module_version": "1.2.0",
      "_model_name": "LayoutModel",
      "_view_count": null,
      "_view_module": "@jupyter-widgets/base",
      "_view_module_version": "1.2.0",
      "_view_name": "LayoutView",
      "align_content": null,
      "align_items": null,
      "align_self": null,
      "border": null,
      "bottom": null,
      "display": null,
      "flex": null,
      "flex_flow": null,
      "grid_area": null,
      "grid_auto_columns": null,
      "grid_auto_flow": null,
      "grid_auto_rows": null,
      "grid_column": null,
      "grid_gap": null,
      "grid_row": null,
      "grid_template_areas": null,
      "grid_template_columns": null,
      "grid_template_rows": null,
      "height": null,
      "justify_content": null,
      "justify_items": null,
      "left": null,
      "margin": null,
      "max_height": null,
      "max_width": null,
      "min_height": null,
      "min_width": null,
      "object_fit": null,
      "object_position": null,
      "order": null,
      "overflow": null,
      "overflow_x": null,
      "overflow_y": null,
      "padding": null,
      "right": null,
      "top": null,
      "visibility": null,
      "width": null
     }
    },
    "faa4cdb0aeab44958fc00b37907d0418": {
     "model_module": "@jupyter-widgets/controls",
     "model_module_version": "1.5.0",
     "model_name": "HTMLModel",
     "state": {
      "_dom_classes": [],
      "_model_module": "@jupyter-widgets/controls",
      "_model_module_version": "1.5.0",
      "_model_name": "HTMLModel",
      "_view_count": null,
      "_view_module": "@jupyter-widgets/controls",
      "_view_module_version": "1.5.0",
      "_view_name": "HTMLView",
      "description": "",
      "description_tooltip": null,
      "layout": "IPY_MODEL_5fd592e689a24236a90fa67e68dd6c1d",
      "placeholder": "​",
      "style": "IPY_MODEL_6f6c3f7df675468ea59d58cb54218fc7",
      "value": "100%"
     }
    }
   }
  }
 },
 "nbformat": 4,
 "nbformat_minor": 5
}